{
  "nbformat": 4,
  "nbformat_minor": 0,
  "metadata": {
    "celltoolbar": "Slideshow",
    "kernelspec": {
      "name": "python3",
      "display_name": "Python 3"
    },
    "colab": {
      "name": "Cifar-10",
      "provenance": [],
      "machine_shape": "hm"
    },
    "accelerator": "GPU"
  },
  "cells": [
    {
      "cell_type": "code",
      "metadata": {
        "id": "7Llbo0DqhT4H",
        "colab_type": "code",
        "outputId": "ec3bf091-5475-41e8-c976-1b264cf2ada7",
        "colab": {
          "base_uri": "https://localhost:8080/",
          "height": 35
        }
      },
      "source": [
        "import torch\n",
        "import torch.nn as nn\n",
        "import torch.optim as optim\n",
        "import torch.nn.init as init\n",
        "import torchvision.datasets as dataset # for loading dataset (mnist)\n",
        "import torchvision.transforms as transforms # for processing datasets\n",
        "from torch.utils.data import DataLoader # for making dataset easier to use \n",
        "\n",
        "from matplotlib import pyplot as plt\n",
        "import numpy as np\n",
        "\n",
        "device = torch.device(\"cuda:0\" if torch.cuda.is_available() else \"cpu\")\n",
        "print(\"device: gpu\") if torch.cuda.is_available() else print(\"device: cpu\")"
      ],
      "execution_count": 0,
      "outputs": [
        {
          "output_type": "stream",
          "text": [
            "device: gpu\n"
          ],
          "name": "stdout"
        }
      ]
    },
    {
      "cell_type": "markdown",
      "metadata": {
        "id": "CtuyfpplhT4N",
        "colab_type": "text"
      },
      "source": [
        "# Hyper parameter setting"
      ]
    },
    {
      "cell_type": "code",
      "metadata": {
        "id": "eL-kyoFLhT4O",
        "colab_type": "code",
        "colab": {}
      },
      "source": [
        "# hypter parameter setting\n",
        "learning_rate = 1e-3\n",
        "epochs = 30\n",
        "display_step = 10\n",
        "batch_size = 256"
      ],
      "execution_count": 0,
      "outputs": []
    },
    {
      "cell_type": "markdown",
      "metadata": {
        "id": "_uT9lomehT4T",
        "colab_type": "text"
      },
      "source": [
        "# Load data & Pre-process data"
      ]
    },
    {
      "cell_type": "code",
      "metadata": {
        "id": "0Zcaj0auhT4T",
        "colab_type": "code",
        "outputId": "108b308e-7a72-4d7f-a53f-b877f6002f05",
        "colab": {
          "base_uri": "https://localhost:8080/",
          "height": 1000
        }
      },
      "source": [
        "# load data\n",
        "train_data = dataset.CIFAR10(\"./\", train = True, transform = transform_train,  target_transform = None, download = True)\n",
        "test_data = dataset.CIFAR10(\"./\", train = False, transform = transform_test, target_transform = None, download = True)\n",
        "\n",
        "# check the data\n",
        "print('len(train_data): ', len(train_data))\n",
        "print('len(test_data): ', len(test_data))\n",
        "\n",
        "x_train, y_train = train_data[0]\n",
        "x_train = np.transpose(x_train, (1, 2, 0)) # 데이터의 배치 바꾸기 3 32 32을 32 32 3 처럼\n",
        "\n",
        "print('data', x_train)\n",
        "print('data shape: ', x_train.shape)\n",
        "print('label: ', y_train)\n",
        "\n",
        "plt.figure()\n",
        "plt.imshow(x_train)\n",
        "plt.show()"
      ],
      "execution_count": 0,
      "outputs": [
        {
          "output_type": "stream",
          "text": [
            "Files already downloaded and verified\n",
            "Files already downloaded and verified\n"
          ],
          "name": "stdout"
        },
        {
          "output_type": "stream",
          "text": [
            "Clipping input data to the valid range for imshow with RGB data ([0..1] for floats or [0..255] for integers).\n"
          ],
          "name": "stderr"
        },
        {
          "output_type": "stream",
          "text": [
            "len(train_data):  50000\n",
            "len(test_data):  10000\n",
            "data tensor([[[-2.4291, -2.4183, -2.2214],\n",
            "         [-2.4291, -2.4183, -2.2214],\n",
            "         [-2.4291, -2.4183, -2.2214],\n",
            "         ...,\n",
            "         [-2.4291, -2.4183, -2.2214],\n",
            "         [-2.4291, -2.4183, -2.2214],\n",
            "         [-2.4291, -2.4183, -2.2214]],\n",
            "\n",
            "        [[-2.4291, -2.4183, -2.2214],\n",
            "         [-2.4291, -2.4183, -2.2214],\n",
            "         [-2.4291, -2.4183, -2.2214],\n",
            "         ...,\n",
            "         [-2.4291, -2.4183, -2.2214],\n",
            "         [-2.4291, -2.4183, -2.2214],\n",
            "         [-2.4291, -2.4183, -2.2214]],\n",
            "\n",
            "        [[-0.5293, -0.9826, -1.2069],\n",
            "         [-0.1223, -0.6286, -0.9922],\n",
            "         [ 0.2654, -0.3139, -0.7581],\n",
            "         ...,\n",
            "         [-2.4291, -2.4183, -2.2214],\n",
            "         [-2.4291, -2.4183, -2.2214],\n",
            "         [-2.4291, -2.4183, -2.2214]],\n",
            "\n",
            "        ...,\n",
            "\n",
            "        [[ 0.1104, -0.6876, -1.5580],\n",
            "         [ 0.0134, -0.8056, -1.5385],\n",
            "         [ 0.2461, -0.5696, -1.2654],\n",
            "         ...,\n",
            "         [-2.4291, -2.4183, -2.2214],\n",
            "         [-2.4291, -2.4183, -2.2214],\n",
            "         [-2.4291, -2.4183, -2.2214]],\n",
            "\n",
            "        [[ 0.5950, -0.0582, -1.7141],\n",
            "         [ 0.3236, -0.3926, -1.6361],\n",
            "         [ 0.3236, -0.4516, -1.2264],\n",
            "         ...,\n",
            "         [-2.4291, -2.4183, -2.2214],\n",
            "         [-2.4291, -2.4183, -2.2214],\n",
            "         [-2.4291, -2.4183, -2.2214]],\n",
            "\n",
            "        [[ 1.1184,  0.4531, -1.5580],\n",
            "         [ 0.8858,  0.2368, -1.5971],\n",
            "         [ 0.6531, -0.0386, -1.4020],\n",
            "         ...,\n",
            "         [-2.4291, -2.4183, -2.2214],\n",
            "         [-2.4291, -2.4183, -2.2214],\n",
            "         [-2.4291, -2.4183, -2.2214]]])\n",
            "data shape:  torch.Size([32, 32, 3])\n",
            "label:  6\n"
          ],
          "name": "stdout"
        },
        {
          "output_type": "display_data",
          "data": {
            "image/png": "[encoded data removed]",
            "text/plain": [
              "<Figure size 432x288 with 1 Axes>"
            ]
          },
          "metadata": {
            "tags": [],
            "needs_background": "light"
          }
        }
      ]
    },
    {
      "cell_type": "code",
      "metadata": {
        "id": "zw-Uzp2ahT4X",
        "colab_type": "code",
        "outputId": "3fcdabfe-abbc-4e2b-9501-15fa40085331",
        "colab": {
          "base_uri": "https://localhost:8080/",
          "height": 500
        }
      },
      "source": [
        "# Pre-process (batch, shuffle)\n",
        "\n",
        "transform_train = transforms.Compose([\n",
        "    transforms.RandomCrop(32, padding=4),\n",
        "    transforms.RandomHorizontalFlip(),\n",
        "    transforms.ToTensor(),\n",
        "    transforms.Normalize((0.4914, 0.4822, 0.4465), (0.2023, 0.1994, 0.2010)),\n",
        "])\n",
        "\n",
        "transform_test = transforms.Compose([\n",
        "    transforms.ToTensor(),\n",
        "    transforms.Normalize((0.4914, 0.4822, 0.4465), (0.2023, 0.1994, 0.2010)),\n",
        "])\n",
        "\n",
        "train_loader = torch.utils.data.DataLoader(train_data, batch_size = batch_size, shuffle = True, num_workers = 1, drop_last = True)\n",
        "test_loader = torch.utils.data.DataLoader(test_data, batch_size = batch_size, shuffle = True, num_workers = 1, drop_last = True)\n",
        "\n",
        "\n",
        "\n",
        "# check the data \n",
        "examples = enumerate(train_loader)\n",
        "batch_idx, (example_data, example_target) = next(examples)\n",
        "\n",
        "print('data shape:', example_data.shape) # 배치 사이즈 채널, 크기 크기\n",
        "print('label:', example_target)\n",
        "\n",
        "check_image = example_data[0]\n",
        "check_image = np.transpose(check_image, (1, 2, 0))\n",
        "\n",
        "plt.figure()\n",
        "plt.imshow(check_image)\n",
        "plt.show()"
      ],
      "execution_count": 0,
      "outputs": [
        {
          "output_type": "stream",
          "text": [
            "Clipping input data to the valid range for imshow with RGB data ([0..1] for floats or [0..255] for integers).\n"
          ],
          "name": "stderr"
        },
        {
          "output_type": "stream",
          "text": [
            "data shape: torch.Size([256, 3, 32, 32])\n",
            "label: tensor([8, 0, 5, 6, 8, 1, 7, 9, 7, 9, 8, 4, 9, 3, 4, 1, 0, 4, 2, 1, 0, 7, 1, 5,\n",
            "        5, 1, 7, 7, 6, 8, 8, 6, 0, 4, 2, 2, 5, 2, 3, 6, 9, 2, 8, 2, 3, 0, 4, 0,\n",
            "        2, 6, 1, 8, 5, 5, 4, 5, 8, 3, 0, 2, 5, 5, 2, 0, 5, 8, 1, 1, 3, 9, 9, 1,\n",
            "        1, 2, 6, 5, 5, 8, 7, 5, 8, 2, 9, 4, 3, 5, 8, 6, 5, 8, 1, 1, 5, 3, 7, 1,\n",
            "        2, 2, 6, 3, 1, 2, 4, 3, 8, 1, 8, 6, 8, 4, 4, 4, 3, 8, 6, 0, 0, 1, 3, 7,\n",
            "        0, 9, 9, 9, 0, 3, 5, 0, 1, 8, 6, 2, 2, 1, 0, 8, 8, 2, 2, 7, 2, 2, 1, 3,\n",
            "        6, 2, 9, 5, 6, 8, 0, 9, 9, 1, 0, 6, 9, 6, 2, 7, 5, 5, 7, 6, 4, 5, 5, 1,\n",
            "        6, 7, 5, 2, 2, 6, 9, 8, 7, 5, 5, 6, 5, 5, 5, 2, 4, 2, 1, 5, 5, 1, 3, 6,\n",
            "        8, 0, 7, 7, 0, 1, 3, 1, 0, 5, 4, 4, 8, 0, 0, 1, 4, 0, 2, 1, 0, 8, 0, 6,\n",
            "        9, 9, 7, 0, 2, 0, 4, 7, 4, 9, 3, 1, 8, 6, 5, 2, 6, 9, 2, 2, 1, 0, 1, 0,\n",
            "        4, 3, 5, 4, 3, 9, 9, 2, 9, 5, 2, 1, 2, 8, 4, 4])\n"
          ],
          "name": "stdout"
        },
        {
          "output_type": "display_data",
          "data": {
            "image/png": "[encoded data removed]",
            "text/plain": [
              "<Figure size 432x288 with 1 Axes>"
            ]
          },
          "metadata": {
            "tags": [],
            "needs_background": "light"
          }
        }
      ]
    },
    {
      "cell_type": "markdown",
      "metadata": {
        "id": "evnnFJnohT4b",
        "colab_type": "text"
      },
      "source": [
        "# Model & Optimization and Loss function"
      ]
    },
    {
      "cell_type": "code",
      "metadata": {
        "id": "AEl_ZnRUhT4b",
        "colab_type": "code",
        "colab": {}
      },
      "source": [
        "import torch.nn.functional as F\n",
        "\n",
        "\n",
        "class CNN(nn.Module):\n",
        "    def __init__(self):\n",
        "        super(CNN, self).__init__() \n",
        "        self.feature_extraction = nn.Sequential(\n",
        "            nn.Conv2d(3, 64, 3 , padding=1),  \n",
        "            nn.BatchNorm2d(64),\n",
        "            nn.ReLU(),\n",
        "            nn.Conv2d(64, 64, 3 ,padding=1),  \n",
        "            nn.BatchNorm2d(64),\n",
        "            nn.ReLU(), \n",
        "            nn.MaxPool2d(2, 2),\n",
        "            \n",
        "            nn.Conv2d(64, 128, 3 ,padding=1),  \n",
        "            nn.BatchNorm2d(128),\n",
        "            nn.ReLU(), \n",
        "            nn.Conv2d(128, 128, 3 ,padding=1),  \n",
        "            nn.BatchNorm2d(128),\n",
        "            nn.ReLU(),\n",
        "            nn.MaxPool2d(2, 2),\n",
        "\n",
        "            nn.Conv2d(128, 256, 3 ,padding=1),  \n",
        "            nn.BatchNorm2d(256),\n",
        "            nn.ReLU(),\n",
        "            nn.Conv2d(256, 256, 3 ,padding=1),  \n",
        "            nn.BatchNorm2d(256),\n",
        "            nn.ReLU(),\n",
        "            nn.MaxPool2d(2, 2),\n",
        "\n",
        "            nn.Conv2d(256, 512, 3 ,padding=1),  \n",
        "            nn.BatchNorm2d(512),\n",
        "            nn.ReLU(),\n",
        "            nn.Conv2d(512, 512, 3 ,padding=1),  \n",
        "            nn.BatchNorm2d(512),\n",
        "            nn.ReLU(),\n",
        "            nn.MaxPool2d(2, 2),\n",
        "\n",
        "            nn.Conv2d(512, 512, 3 ,padding=1),  \n",
        "            nn.BatchNorm2d(512),\n",
        "            nn.ReLU(),\n",
        "            nn.Conv2d(512, 512, 3 ,padding=1),  \n",
        "            nn.BatchNorm2d(512),\n",
        "            nn.ReLU(),        \n",
        "            )\n",
        "\n",
        "        self.classifier = nn.Sequential(\n",
        "            nn.Linear(512*2*2,512),\n",
        "            nn.BatchNorm1d(512),\n",
        "            nn.ReLU(),\n",
        "            nn.Linear(512,10)\n",
        "        )\n",
        "        \n",
        "    def forward(self, x):\n",
        "        extracted_feature = self.feature_extraction(x) # [32, 64, 4, 4] # 배치, 채널, 위, 아래\n",
        "        flatten = extracted_feature.view(batch_size, -1) # [32, 64 * 4 * 4]\n",
        "        result =  F.log_softmax(self.classifier(flatten), dim=1)\n",
        "        return result\n",
        "\n",
        "model = CNN().to(device)\n",
        "model.train()\n",
        "loss_function = nn.CrossEntropyLoss()\n",
        "optimizer = optim.SGD(model.parameters(), lr = learning_rate, momentum = 0.9)"
      ],
      "execution_count": 0,
      "outputs": []
    },
    {
      "cell_type": "markdown",
      "metadata": {
        "id": "rKPr3qVbhT4f",
        "colab_type": "text"
      },
      "source": [
        "# Train & Test"
      ]
    },
    {
      "cell_type": "code",
      "metadata": {
        "id": "XB5hMXWixSMt",
        "colab_type": "code",
        "outputId": "b940b5b8-6684-43c8-cdca-c47dc6c0a8fd",
        "colab": {
          "base_uri": "https://localhost:8080/",
          "height": 89
        }
      },
      "source": [
        "loss_array = []\n",
        "\n",
        "# train the model\n",
        "for i in range(epochs):\n",
        "    for index, [data, label] in enumerate(train_loader):\n",
        "        data = data.to(device)\n",
        "        label = label.to(device)\n",
        "                \n",
        "        optimizer.zero_grad()\n",
        "        output = model.forward(data)\n",
        "        loss = loss_function(output, label)\n",
        "        loss.backward()\n",
        "        optimizer.step()\n",
        "        \n",
        "    if i % display_step == 0:\n",
        "        print('{} epoch loss: {}'.format(i,loss))\n",
        "        loss_array.append(loss.cpu().detach().numpy())\n",
        "        \n",
        "#test the model\n",
        "model.eval()\n",
        "correct = 0\n",
        "total = 0\n",
        "\n",
        "prediction_list = []\n",
        "label_list = []\n",
        "\n",
        "with torch.no_grad():\n",
        "    for index, [data, label] in enumerate(test_loader):\n",
        "        data = data.to(device)\n",
        "        label = label.to(device)\n",
        "        \n",
        "        output = model.forward(data)\n",
        "        _, prediction_index = torch.max(output, 1)\n",
        "        \n",
        "        prediction_list.append(prediction_index)\n",
        "        label_list.append(label)\n",
        "        \n",
        "        total += label.size(0)\n",
        "        correct += (prediction_index == label).sum().float()\n",
        "\n",
        "    print(\"Accuracy of the model: {}\".format(correct/total))"
      ],
      "execution_count": 0,
      "outputs": [
        {
          "output_type": "stream",
          "text": [
            "0 epoch loss: 1.1468708515167236\n",
            "10 epoch loss: 0.515778124332428\n",
            "20 epoch loss: 0.30039092898368835\n",
            "Accuracy of the model: 0.854567289352417\n"
          ],
          "name": "stdout"
        }
      ]
    }
  ]
}