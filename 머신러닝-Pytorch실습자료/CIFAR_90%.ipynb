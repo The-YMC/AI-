{
 "cells": [
  {
   "cell_type": "code",
   "execution_count": 0,
   "metadata": {
    "colab": {},
    "colab_type": "code",
    "id": "1bABDU8mKtm2"
   },
   "outputs": [],
   "source": [
    "from __future__ import print_function\n",
    "import numpy as np\n",
    "import argparse\n",
    "import torch\n",
    "import torchvision\n",
    "import torch.nn as nn\n",
    "import torch.nn.functional as F\n",
    "import torch.optim as optim\n",
    "from torchvision import datasets, transforms\n",
    "from sklearn.metrics import *\n",
    "from matplotlib import pyplot as plt\n",
    "%matplotlib inline\n",
    "\n",
    "class CNN(nn.Module):\n",
    "    def __init__(self):\n",
    "        super(CNN, self).__init__()\n",
    "        self.conv1 = nn.Conv2d(3,   64,  3)\n",
    "        self.conv2 = nn.Conv2d(64,  128, 3)\n",
    "        self.conv3 = nn.Conv2d(128, 256, 3)\n",
    "        self.pool = nn.MaxPool2d(2, 2)\n",
    "        self.fc1 = nn.Linear(64 * 4 * 4, 128)\n",
    "        self.fc2 = nn.Linear(128, 256)\n",
    "        self.fc3 = nn.Linear(256, 10)\n",
    "\n",
    "    def forward(self, x):\n",
    "        x = self.pool(F.relu(self.conv1(x)))\n",
    "        x = self.pool(F.relu(self.conv2(x)))\n",
    "        x = self.pool(F.relu(self.conv3(x)))\n",
    "        x = x.view(-1, 64 * 4 * 4)\n",
    "        x = F.relu(self.fc1(x))\n",
    "        x = F.relu(self.fc2(x))\n",
    "        x = self.fc3(x)\n",
    "        return F.log_softmax(x, dim=1)\n",
    "    \n",
    "def train(model, device, train_loader, optimizer, epoch):\n",
    "    losses = []\n",
    "    model.train()\n",
    "    for batch_idx, (data, target) in enumerate(train_loader):\n",
    "        data, target = data.to(device), target.to(device)\n",
    "        optimizer.zero_grad()\n",
    "        output = model(data)\n",
    "        loss = F.nll_loss(output, target)\n",
    "        loss.backward()\n",
    "        optimizer.step()\n",
    "        losses.append(loss.item())\n",
    "        if batch_idx > 0 and batch_idx % 1000 == 0:\n",
    "            print('Train Epoch: {} [{}/{}\\t({:.0f}%)]\\tLoss: {:.6f}'.format(\n",
    "                epoch, batch_idx * len(data), len(train_loader.dataset),\n",
    "                100. * batch_idx / len(train_loader), loss.item()))\n",
    "    return losses\n",
    "\n",
    "def test(model, device, test_loader):\n",
    "    model.eval()\n",
    "    test_loss = 0\n",
    "    correct = 0\n",
    "    with torch.no_grad():\n",
    "        for data, target in test_loader:\n",
    "            data, target = data.to(device), target.to(device)\n",
    "            output = model(data)\n",
    "            test_loss += F.nll_loss(output, target, reduction='sum').item() # sum up batch loss\n",
    "            pred = output.argmax(dim=1, keepdim=True) # get the index of the max log-probability\n",
    "            correct += pred.eq(target.view_as(pred)).sum().item()\n",
    "    test_loss /= len(test_loader.dataset)\n",
    "    print('\\nAverage loss: {:.4f}, Accuracy: {}/{} ({:.0f}%)\\n'.format(\n",
    "        test_loss, correct, len(test_loader.dataset),\n",
    "        100. * correct / len(test_loader.dataset)))\n",
    "    return (float(correct) / len(test_loader.dataset))"
   ]
  },
  {
   "cell_type": "code",
   "execution_count": 6,
   "metadata": {
    "colab": {
     "base_uri": "https://localhost:8080/",
     "height": 1000
    },
    "colab_type": "code",
    "executionInfo": {
     "elapsed": 7859334,
     "status": "ok",
     "timestamp": 1589534816204,
     "user": {
      "displayName": "양명철",
      "photoUrl": "",
      "userId": "13579778018026773217"
     },
     "user_tz": -540
    },
    "id": "QvCA8oH-Lqh-",
    "outputId": "9606c2b2-41b3-4b16-c763-609fa7674a04"
   },
   "outputs": [
    {
     "name": "stdout",
     "output_type": "stream",
     "text": [
      "Files already downloaded and verified\n",
      "Files already downloaded and verified\n",
      "Train Epoch: 0 [4000/50000\t(8%)]\tLoss: 2.257328\n",
      "Train Epoch: 0 [8000/50000\t(16%)]\tLoss: 2.284752\n",
      "Train Epoch: 0 [12000/50000\t(24%)]\tLoss: 2.436608\n",
      "Train Epoch: 0 [16000/50000\t(32%)]\tLoss: 2.327855\n",
      "Train Epoch: 0 [20000/50000\t(40%)]\tLoss: 1.635911\n",
      "Train Epoch: 0 [24000/50000\t(48%)]\tLoss: 1.749441\n",
      "Train Epoch: 0 [28000/50000\t(56%)]\tLoss: 0.723353\n",
      "Train Epoch: 0 [32000/50000\t(64%)]\tLoss: 1.509759\n",
      "Train Epoch: 0 [36000/50000\t(72%)]\tLoss: 1.009530\n",
      "Train Epoch: 0 [40000/50000\t(80%)]\tLoss: 2.426518\n",
      "Train Epoch: 0 [44000/50000\t(88%)]\tLoss: 1.987863\n",
      "Train Epoch: 0 [48000/50000\t(96%)]\tLoss: 0.969864\n",
      "\n",
      "Average loss: 1.3748, Accuracy: 24878/50000 (50%)\n",
      "\n",
      "Train Epoch: 1 [4000/50000\t(8%)]\tLoss: 1.189928\n",
      "Train Epoch: 1 [8000/50000\t(16%)]\tLoss: 0.746836\n",
      "Train Epoch: 1 [12000/50000\t(24%)]\tLoss: 1.242059\n",
      "Train Epoch: 1 [16000/50000\t(32%)]\tLoss: 1.082476\n",
      "Train Epoch: 1 [20000/50000\t(40%)]\tLoss: 0.530175\n",
      "Train Epoch: 1 [24000/50000\t(48%)]\tLoss: 1.869231\n",
      "Train Epoch: 1 [28000/50000\t(56%)]\tLoss: 1.833687\n",
      "Train Epoch: 1 [32000/50000\t(64%)]\tLoss: 0.476991\n",
      "Train Epoch: 1 [36000/50000\t(72%)]\tLoss: 0.835838\n",
      "Train Epoch: 1 [40000/50000\t(80%)]\tLoss: 0.865450\n",
      "Train Epoch: 1 [44000/50000\t(88%)]\tLoss: 1.012693\n",
      "Train Epoch: 1 [48000/50000\t(96%)]\tLoss: 0.778947\n",
      "\n",
      "Average loss: 0.9088, Accuracy: 34179/50000 (68%)\n",
      "\n",
      "Train Epoch: 2 [4000/50000\t(8%)]\tLoss: 0.170476\n",
      "Train Epoch: 2 [8000/50000\t(16%)]\tLoss: 1.588036\n",
      "Train Epoch: 2 [12000/50000\t(24%)]\tLoss: 2.554444\n",
      "Train Epoch: 2 [16000/50000\t(32%)]\tLoss: 0.581114\n",
      "Train Epoch: 2 [20000/50000\t(40%)]\tLoss: 0.793562\n",
      "Train Epoch: 2 [24000/50000\t(48%)]\tLoss: 0.726189\n",
      "Train Epoch: 2 [28000/50000\t(56%)]\tLoss: 1.678522\n",
      "Train Epoch: 2 [32000/50000\t(64%)]\tLoss: 0.545702\n",
      "Train Epoch: 2 [36000/50000\t(72%)]\tLoss: 1.546691\n",
      "Train Epoch: 2 [40000/50000\t(80%)]\tLoss: 0.664951\n",
      "Train Epoch: 2 [44000/50000\t(88%)]\tLoss: 0.984512\n",
      "Train Epoch: 2 [48000/50000\t(96%)]\tLoss: 0.704577\n",
      "\n",
      "Average loss: 0.7516, Accuracy: 37073/50000 (74%)\n",
      "\n",
      "Train Epoch: 3 [4000/50000\t(8%)]\tLoss: 1.819664\n",
      "Train Epoch: 3 [8000/50000\t(16%)]\tLoss: 0.744919\n",
      "Train Epoch: 3 [12000/50000\t(24%)]\tLoss: 1.307717\n",
      "Train Epoch: 3 [16000/50000\t(32%)]\tLoss: 0.702572\n",
      "Train Epoch: 3 [20000/50000\t(40%)]\tLoss: 1.111548\n",
      "Train Epoch: 3 [24000/50000\t(48%)]\tLoss: 1.468544\n",
      "Train Epoch: 3 [28000/50000\t(56%)]\tLoss: 0.651348\n",
      "Train Epoch: 3 [32000/50000\t(64%)]\tLoss: 1.182159\n",
      "Train Epoch: 3 [36000/50000\t(72%)]\tLoss: 0.227633\n",
      "Train Epoch: 3 [40000/50000\t(80%)]\tLoss: 0.438274\n",
      "Train Epoch: 3 [44000/50000\t(88%)]\tLoss: 1.817273\n",
      "Train Epoch: 3 [48000/50000\t(96%)]\tLoss: 0.517136\n",
      "\n",
      "Average loss: 0.5358, Accuracy: 40709/50000 (81%)\n",
      "\n",
      "Train Epoch: 4 [4000/50000\t(8%)]\tLoss: 0.998893\n",
      "Train Epoch: 4 [8000/50000\t(16%)]\tLoss: 0.184023\n",
      "Train Epoch: 4 [12000/50000\t(24%)]\tLoss: 0.154751\n",
      "Train Epoch: 4 [16000/50000\t(32%)]\tLoss: 0.504871\n",
      "Train Epoch: 4 [20000/50000\t(40%)]\tLoss: 1.348255\n",
      "Train Epoch: 4 [24000/50000\t(48%)]\tLoss: 0.390427\n",
      "Train Epoch: 4 [28000/50000\t(56%)]\tLoss: 1.246012\n",
      "Train Epoch: 4 [32000/50000\t(64%)]\tLoss: 0.302220\n",
      "Train Epoch: 4 [36000/50000\t(72%)]\tLoss: 1.181855\n",
      "Train Epoch: 4 [40000/50000\t(80%)]\tLoss: 0.917673\n",
      "Train Epoch: 4 [44000/50000\t(88%)]\tLoss: 0.250457\n",
      "Train Epoch: 4 [48000/50000\t(96%)]\tLoss: 0.113656\n",
      "\n",
      "Average loss: 0.4947, Accuracy: 41477/50000 (83%)\n",
      "\n",
      "Train Epoch: 5 [4000/50000\t(8%)]\tLoss: 1.221152\n",
      "Train Epoch: 5 [8000/50000\t(16%)]\tLoss: 0.218550\n",
      "Train Epoch: 5 [12000/50000\t(24%)]\tLoss: 0.651577\n",
      "Train Epoch: 5 [16000/50000\t(32%)]\tLoss: 0.010336\n",
      "Train Epoch: 5 [20000/50000\t(40%)]\tLoss: 0.565179\n",
      "Train Epoch: 5 [24000/50000\t(48%)]\tLoss: 0.216975\n",
      "Train Epoch: 5 [28000/50000\t(56%)]\tLoss: 1.625335\n",
      "Train Epoch: 5 [32000/50000\t(64%)]\tLoss: 0.144620\n",
      "Train Epoch: 5 [36000/50000\t(72%)]\tLoss: 0.023512\n",
      "Train Epoch: 5 [40000/50000\t(80%)]\tLoss: 0.188880\n",
      "Train Epoch: 5 [44000/50000\t(88%)]\tLoss: 0.220883\n",
      "Train Epoch: 5 [48000/50000\t(96%)]\tLoss: 1.392563\n",
      "\n",
      "Average loss: 0.3873, Accuracy: 43328/50000 (87%)\n",
      "\n",
      "Train Epoch: 6 [4000/50000\t(8%)]\tLoss: 1.184024\n",
      "Train Epoch: 6 [8000/50000\t(16%)]\tLoss: 0.213984\n",
      "Train Epoch: 6 [12000/50000\t(24%)]\tLoss: 0.140382\n",
      "Train Epoch: 6 [16000/50000\t(32%)]\tLoss: 0.774485\n",
      "Train Epoch: 6 [20000/50000\t(40%)]\tLoss: 1.402329\n",
      "Train Epoch: 6 [24000/50000\t(48%)]\tLoss: 0.073844\n",
      "Train Epoch: 6 [28000/50000\t(56%)]\tLoss: 0.141806\n",
      "Train Epoch: 6 [32000/50000\t(64%)]\tLoss: 0.132329\n",
      "Train Epoch: 6 [36000/50000\t(72%)]\tLoss: 0.550310\n",
      "Train Epoch: 6 [40000/50000\t(80%)]\tLoss: 0.031011\n",
      "Train Epoch: 6 [44000/50000\t(88%)]\tLoss: 0.165715\n",
      "Train Epoch: 6 [48000/50000\t(96%)]\tLoss: 0.012712\n",
      "\n",
      "Average loss: 0.2995, Accuracy: 45137/50000 (90%)\n",
      "\n",
      "Train Epoch: 7 [4000/50000\t(8%)]\tLoss: 0.371698\n",
      "Train Epoch: 7 [8000/50000\t(16%)]\tLoss: 0.008620\n",
      "Train Epoch: 7 [12000/50000\t(24%)]\tLoss: 0.131807\n",
      "Train Epoch: 7 [16000/50000\t(32%)]\tLoss: 0.536672\n",
      "Train Epoch: 7 [20000/50000\t(40%)]\tLoss: 1.246909\n",
      "Train Epoch: 7 [24000/50000\t(48%)]\tLoss: 0.043779\n",
      "Train Epoch: 7 [28000/50000\t(56%)]\tLoss: 0.108978\n",
      "Train Epoch: 7 [32000/50000\t(64%)]\tLoss: 0.467022\n",
      "Train Epoch: 7 [36000/50000\t(72%)]\tLoss: 0.668268\n",
      "Train Epoch: 7 [40000/50000\t(80%)]\tLoss: 0.487767\n",
      "Train Epoch: 7 [44000/50000\t(88%)]\tLoss: 1.406267\n",
      "Train Epoch: 7 [48000/50000\t(96%)]\tLoss: 0.646386\n",
      "\n",
      "Average loss: 0.2531, Accuracy: 45724/50000 (91%)\n",
      "\n",
      "Train Epoch: 8 [4000/50000\t(8%)]\tLoss: 0.018627\n",
      "Train Epoch: 8 [8000/50000\t(16%)]\tLoss: 0.016765\n",
      "Train Epoch: 8 [12000/50000\t(24%)]\tLoss: 1.049562\n",
      "Train Epoch: 8 [16000/50000\t(32%)]\tLoss: 0.018144\n",
      "Train Epoch: 8 [20000/50000\t(40%)]\tLoss: 0.008391\n",
      "Train Epoch: 8 [24000/50000\t(48%)]\tLoss: 0.012758\n",
      "Train Epoch: 8 [28000/50000\t(56%)]\tLoss: 0.252586\n",
      "Train Epoch: 8 [32000/50000\t(64%)]\tLoss: 0.229753\n",
      "Train Epoch: 8 [36000/50000\t(72%)]\tLoss: 0.110367\n",
      "Train Epoch: 8 [40000/50000\t(80%)]\tLoss: 0.062562\n",
      "Train Epoch: 8 [44000/50000\t(88%)]\tLoss: 0.208816\n",
      "Train Epoch: 8 [48000/50000\t(96%)]\tLoss: 0.005580\n",
      "\n",
      "Average loss: 0.1941, Accuracy: 46660/50000 (93%)\n",
      "\n",
      "Train Epoch: 9 [4000/50000\t(8%)]\tLoss: 0.407367\n",
      "Train Epoch: 9 [8000/50000\t(16%)]\tLoss: 0.125023\n",
      "Train Epoch: 9 [12000/50000\t(24%)]\tLoss: 0.025842\n",
      "Train Epoch: 9 [16000/50000\t(32%)]\tLoss: 0.208894\n",
      "Train Epoch: 9 [20000/50000\t(40%)]\tLoss: 0.813816\n",
      "Train Epoch: 9 [24000/50000\t(48%)]\tLoss: 0.028998\n",
      "Train Epoch: 9 [28000/50000\t(56%)]\tLoss: 0.000480\n",
      "Train Epoch: 9 [32000/50000\t(64%)]\tLoss: 0.000459\n",
      "Train Epoch: 9 [36000/50000\t(72%)]\tLoss: 0.044576\n",
      "Train Epoch: 9 [40000/50000\t(80%)]\tLoss: 0.506145\n",
      "Train Epoch: 9 [44000/50000\t(88%)]\tLoss: 0.109028\n",
      "Train Epoch: 9 [48000/50000\t(96%)]\tLoss: 0.583339\n",
      "\n",
      "Average loss: 0.1791, Accuracy: 46961/50000 (94%)\n",
      "\n",
      "Train Epoch: 10 [4000/50000\t(8%)]\tLoss: 0.087705\n",
      "Train Epoch: 10 [8000/50000\t(16%)]\tLoss: 0.000965\n",
      "Train Epoch: 10 [12000/50000\t(24%)]\tLoss: 0.009433\n",
      "Train Epoch: 10 [16000/50000\t(32%)]\tLoss: 0.030566\n",
      "Train Epoch: 10 [20000/50000\t(40%)]\tLoss: 0.009011\n",
      "Train Epoch: 10 [24000/50000\t(48%)]\tLoss: 0.406619\n",
      "Train Epoch: 10 [28000/50000\t(56%)]\tLoss: 0.300507\n",
      "Train Epoch: 10 [32000/50000\t(64%)]\tLoss: 0.018077\n",
      "Train Epoch: 10 [36000/50000\t(72%)]\tLoss: 0.020359\n",
      "Train Epoch: 10 [40000/50000\t(80%)]\tLoss: 0.001462\n",
      "Train Epoch: 10 [44000/50000\t(88%)]\tLoss: 0.016483\n",
      "Train Epoch: 10 [48000/50000\t(96%)]\tLoss: 0.010131\n",
      "\n",
      "Average loss: 0.1512, Accuracy: 47532/50000 (95%)\n",
      "\n",
      "Train Epoch: 11 [4000/50000\t(8%)]\tLoss: 0.000413\n",
      "Train Epoch: 11 [8000/50000\t(16%)]\tLoss: 0.066721\n",
      "Train Epoch: 11 [12000/50000\t(24%)]\tLoss: 0.009273\n",
      "Train Epoch: 11 [16000/50000\t(32%)]\tLoss: 0.918113\n",
      "Train Epoch: 11 [20000/50000\t(40%)]\tLoss: 0.088972\n",
      "Train Epoch: 11 [24000/50000\t(48%)]\tLoss: 0.323615\n",
      "Train Epoch: 11 [28000/50000\t(56%)]\tLoss: 0.034253\n",
      "Train Epoch: 11 [32000/50000\t(64%)]\tLoss: 0.056653\n",
      "Train Epoch: 11 [36000/50000\t(72%)]\tLoss: 0.096137\n",
      "Train Epoch: 11 [40000/50000\t(80%)]\tLoss: 1.104349\n",
      "Train Epoch: 11 [44000/50000\t(88%)]\tLoss: 0.031222\n",
      "Train Epoch: 11 [48000/50000\t(96%)]\tLoss: 0.003300\n",
      "\n",
      "Average loss: 0.1213, Accuracy: 47905/50000 (96%)\n",
      "\n",
      "Train Epoch: 12 [4000/50000\t(8%)]\tLoss: 0.029374\n",
      "Train Epoch: 12 [8000/50000\t(16%)]\tLoss: 0.336678\n",
      "Train Epoch: 12 [12000/50000\t(24%)]\tLoss: 0.051783\n",
      "Train Epoch: 12 [16000/50000\t(32%)]\tLoss: 0.000040\n",
      "Train Epoch: 12 [20000/50000\t(40%)]\tLoss: 0.172161\n",
      "Train Epoch: 12 [24000/50000\t(48%)]\tLoss: 0.001800\n",
      "Train Epoch: 12 [28000/50000\t(56%)]\tLoss: 0.246068\n",
      "Train Epoch: 12 [32000/50000\t(64%)]\tLoss: 0.102558\n",
      "Train Epoch: 12 [36000/50000\t(72%)]\tLoss: 0.137139\n",
      "Train Epoch: 12 [40000/50000\t(80%)]\tLoss: 0.080169\n",
      "Train Epoch: 12 [44000/50000\t(88%)]\tLoss: 0.679858\n",
      "Train Epoch: 12 [48000/50000\t(96%)]\tLoss: 0.012116\n",
      "\n",
      "Average loss: 0.1013, Accuracy: 48348/50000 (97%)\n",
      "\n",
      "Train Epoch: 13 [4000/50000\t(8%)]\tLoss: 0.001014\n",
      "Train Epoch: 13 [8000/50000\t(16%)]\tLoss: 0.005626\n",
      "Train Epoch: 13 [12000/50000\t(24%)]\tLoss: 0.002395\n",
      "Train Epoch: 13 [16000/50000\t(32%)]\tLoss: 0.000175\n",
      "Train Epoch: 13 [20000/50000\t(40%)]\tLoss: 0.006690\n",
      "Train Epoch: 13 [24000/50000\t(48%)]\tLoss: 0.134192\n",
      "Train Epoch: 13 [28000/50000\t(56%)]\tLoss: 0.001600\n",
      "Train Epoch: 13 [32000/50000\t(64%)]\tLoss: 0.008323\n",
      "Train Epoch: 13 [36000/50000\t(72%)]\tLoss: 0.120951\n",
      "Train Epoch: 13 [40000/50000\t(80%)]\tLoss: 0.001914\n",
      "Train Epoch: 13 [44000/50000\t(88%)]\tLoss: 0.441960\n",
      "Train Epoch: 13 [48000/50000\t(96%)]\tLoss: 0.008133\n",
      "\n",
      "Average loss: 0.0917, Accuracy: 48439/50000 (97%)\n",
      "\n",
      "Train Epoch: 14 [4000/50000\t(8%)]\tLoss: 0.401945\n",
      "Train Epoch: 14 [8000/50000\t(16%)]\tLoss: 0.005217\n",
      "Train Epoch: 14 [12000/50000\t(24%)]\tLoss: 0.001900\n",
      "Train Epoch: 14 [16000/50000\t(32%)]\tLoss: 0.006388\n",
      "Train Epoch: 14 [20000/50000\t(40%)]\tLoss: 1.409049\n",
      "Train Epoch: 14 [24000/50000\t(48%)]\tLoss: 2.386716\n",
      "Train Epoch: 14 [28000/50000\t(56%)]\tLoss: 0.000023\n",
      "Train Epoch: 14 [32000/50000\t(64%)]\tLoss: 0.026654\n",
      "Train Epoch: 14 [36000/50000\t(72%)]\tLoss: 0.002710\n",
      "Train Epoch: 14 [40000/50000\t(80%)]\tLoss: 0.004622\n",
      "Train Epoch: 14 [44000/50000\t(88%)]\tLoss: 0.026699\n",
      "Train Epoch: 14 [48000/50000\t(96%)]\tLoss: 0.010143\n",
      "\n",
      "Average loss: 0.1002, Accuracy: 48311/50000 (97%)\n",
      "\n",
      "Train Epoch: 15 [4000/50000\t(8%)]\tLoss: 0.004873\n",
      "Train Epoch: 15 [8000/50000\t(16%)]\tLoss: 0.000019\n",
      "Train Epoch: 15 [12000/50000\t(24%)]\tLoss: 0.051776\n",
      "Train Epoch: 15 [16000/50000\t(32%)]\tLoss: 0.000159\n",
      "Train Epoch: 15 [20000/50000\t(40%)]\tLoss: 0.000020\n",
      "Train Epoch: 15 [24000/50000\t(48%)]\tLoss: 0.109590\n",
      "Train Epoch: 15 [28000/50000\t(56%)]\tLoss: 0.028988\n",
      "Train Epoch: 15 [32000/50000\t(64%)]\tLoss: 0.001425\n",
      "Train Epoch: 15 [36000/50000\t(72%)]\tLoss: 0.036199\n",
      "Train Epoch: 15 [40000/50000\t(80%)]\tLoss: 0.066870\n",
      "Train Epoch: 15 [44000/50000\t(88%)]\tLoss: 0.001403\n",
      "Train Epoch: 15 [48000/50000\t(96%)]\tLoss: 0.035797\n",
      "\n",
      "Average loss: 0.1004, Accuracy: 48318/50000 (97%)\n",
      "\n",
      "Train Epoch: 16 [4000/50000\t(8%)]\tLoss: 0.001352\n",
      "Train Epoch: 16 [8000/50000\t(16%)]\tLoss: 0.051301\n",
      "Train Epoch: 16 [12000/50000\t(24%)]\tLoss: 0.008354\n",
      "Train Epoch: 16 [16000/50000\t(32%)]\tLoss: 0.003170\n",
      "Train Epoch: 16 [20000/50000\t(40%)]\tLoss: 0.000198\n",
      "Train Epoch: 16 [24000/50000\t(48%)]\tLoss: 0.000032\n",
      "Train Epoch: 16 [28000/50000\t(56%)]\tLoss: 0.279417\n",
      "Train Epoch: 16 [32000/50000\t(64%)]\tLoss: 0.015275\n",
      "Train Epoch: 16 [36000/50000\t(72%)]\tLoss: 0.000085\n",
      "Train Epoch: 16 [40000/50000\t(80%)]\tLoss: 0.003897\n",
      "Train Epoch: 16 [44000/50000\t(88%)]\tLoss: 1.311942\n",
      "Train Epoch: 16 [48000/50000\t(96%)]\tLoss: 0.003261\n",
      "\n",
      "Average loss: 0.0669, Accuracy: 48901/50000 (98%)\n",
      "\n",
      "Train Epoch: 17 [4000/50000\t(8%)]\tLoss: 0.003678\n",
      "Train Epoch: 17 [8000/50000\t(16%)]\tLoss: 0.001632\n",
      "Train Epoch: 17 [12000/50000\t(24%)]\tLoss: 0.021246\n",
      "Train Epoch: 17 [16000/50000\t(32%)]\tLoss: 0.000264\n",
      "Train Epoch: 17 [20000/50000\t(40%)]\tLoss: 0.000752\n",
      "Train Epoch: 17 [24000/50000\t(48%)]\tLoss: 0.000018\n",
      "Train Epoch: 17 [28000/50000\t(56%)]\tLoss: 0.000049\n",
      "Train Epoch: 17 [32000/50000\t(64%)]\tLoss: 0.003077\n",
      "Train Epoch: 17 [36000/50000\t(72%)]\tLoss: 1.237373\n",
      "Train Epoch: 17 [40000/50000\t(80%)]\tLoss: 0.208799\n",
      "Train Epoch: 17 [44000/50000\t(88%)]\tLoss: 0.818364\n",
      "Train Epoch: 17 [48000/50000\t(96%)]\tLoss: 0.000733\n",
      "\n",
      "Average loss: 0.0563, Accuracy: 49068/50000 (98%)\n",
      "\n",
      "Train Epoch: 18 [4000/50000\t(8%)]\tLoss: 0.583427\n",
      "Train Epoch: 18 [8000/50000\t(16%)]\tLoss: 0.982185\n",
      "Train Epoch: 18 [12000/50000\t(24%)]\tLoss: 0.000030\n",
      "Train Epoch: 18 [16000/50000\t(32%)]\tLoss: 0.001314\n",
      "Train Epoch: 18 [20000/50000\t(40%)]\tLoss: 0.015901\n",
      "Train Epoch: 18 [24000/50000\t(48%)]\tLoss: 0.004486\n",
      "Train Epoch: 18 [28000/50000\t(56%)]\tLoss: 0.000032\n",
      "Train Epoch: 18 [32000/50000\t(64%)]\tLoss: 0.002430\n",
      "Train Epoch: 18 [36000/50000\t(72%)]\tLoss: 0.000024\n",
      "Train Epoch: 18 [40000/50000\t(80%)]\tLoss: 0.021573\n",
      "Train Epoch: 18 [44000/50000\t(88%)]\tLoss: 0.182871\n",
      "Train Epoch: 18 [48000/50000\t(96%)]\tLoss: 0.021305\n",
      "\n",
      "Average loss: 0.0489, Accuracy: 49229/50000 (98%)\n",
      "\n",
      "Train Epoch: 19 [4000/50000\t(8%)]\tLoss: 0.000265\n",
      "Train Epoch: 19 [8000/50000\t(16%)]\tLoss: 0.003530\n",
      "Train Epoch: 19 [12000/50000\t(24%)]\tLoss: 0.008130\n",
      "Train Epoch: 19 [16000/50000\t(32%)]\tLoss: 0.000166\n",
      "Train Epoch: 19 [20000/50000\t(40%)]\tLoss: 0.052272\n",
      "Train Epoch: 19 [24000/50000\t(48%)]\tLoss: 0.000024\n",
      "Train Epoch: 19 [28000/50000\t(56%)]\tLoss: 0.013400\n",
      "Train Epoch: 19 [32000/50000\t(64%)]\tLoss: 0.075478\n",
      "Train Epoch: 19 [36000/50000\t(72%)]\tLoss: 0.000024\n",
      "Train Epoch: 19 [40000/50000\t(80%)]\tLoss: 0.001237\n",
      "Train Epoch: 19 [44000/50000\t(88%)]\tLoss: 0.083829\n",
      "Train Epoch: 19 [48000/50000\t(96%)]\tLoss: 0.035123\n",
      "\n",
      "Average loss: 0.0882, Accuracy: 48550/50000 (97%)\n",
      "\n"
     ]
    }
   ],
   "source": [
    "transform = transforms.Compose([\n",
    "    transforms.ToTensor(),\n",
    "    transforms.Normalize((0.5, 0.5, 0.5), (0.5, 0.5, 0.5))\n",
    "])\n",
    "\n",
    "train_loader = torch.utils.data.DataLoader(\n",
    "    torchvision.datasets.CIFAR10(\n",
    "        root='./data',\n",
    "        train=True,\n",
    "        download=True,\n",
    "        transform=transform),\n",
    "    batch_size=4,\n",
    "    shuffle=True,\n",
    "    num_workers=2)\n",
    "\n",
    "test_loader = torch.utils.data.DataLoader(\n",
    "    torchvision.datasets.CIFAR10(\n",
    "        root='./data',\n",
    "        train=False,\n",
    "        download=True,\n",
    "        transform=transform),\n",
    "    batch_size=4,\n",
    "    shuffle=False,\n",
    "    num_workers=2)\n",
    "\n",
    "model = CNN()\n",
    "optimizer = optim.SGD(model.parameters(), lr=0.001, momentum=0.9)\n",
    "device = torch.device(\"cpu\") # or 'gpu'\n",
    "losses = []\n",
    "accuracies = []\n",
    "for epoch in range(0, 20):\n",
    "    losses.extend(train(model, device, train_loader, optimizer, epoch))\n",
    "    accuracies.append(test(model, device, train_loader))"
   ]
  },
  {
   "cell_type": "code",
   "execution_count": 7,
   "metadata": {
    "colab": {
     "base_uri": "https://localhost:8080/",
     "height": 297
    },
    "colab_type": "code",
    "executionInfo": {
     "elapsed": 3132,
     "status": "ok",
     "timestamp": 1589534819366,
     "user": {
      "displayName": "양명철",
      "photoUrl": "",
      "userId": "13579778018026773217"
     },
     "user_tz": -540
    },
    "id": "2fcSXpe5MEQl",
    "outputId": "0be79283-ea88-4f17-9c15-2b35efa45d3f"
   },
   "outputs": [
    {
     "data": {
      "text/plain": [
       "[<matplotlib.lines.Line2D at 0x7f2bcb4f1198>]"
      ]
     },
     "execution_count": 7,
     "metadata": {
      "tags": []
     },
     "output_type": "execute_result"
    },
    {
     "data": {
      "image/png": "[encoded data removed]",
      "text/plain": [
       "<Figure size 1008x288 with 1 Axes>"
      ]
     },
     "metadata": {
      "needs_background": "light",
      "tags": []
     },
     "output_type": "display_data"
    }
   ],
   "source": [
    "def mean(li): return sum(li)/len(li)\n",
    "plt.figure(figsize=(14, 4))\n",
    "plt.xlabel('training batch')\n",
    "plt.ylabel('loss')\n",
    "plt.plot([mean(losses[i:i+1000]) for i in range(len(losses))])"
   ]
  },
  {
   "cell_type": "code",
   "execution_count": 8,
   "metadata": {
    "colab": {
     "base_uri": "https://localhost:8080/",
     "height": 298
    },
    "colab_type": "code",
    "executionInfo": {
     "elapsed": 936,
     "status": "ok",
     "timestamp": 1589534904477,
     "user": {
      "displayName": "양명철",
      "photoUrl": "",
      "userId": "13579778018026773217"
     },
     "user_tz": -540
    },
    "id": "7mjtJiJpMEUK",
    "outputId": "5479f76a-d23d-4603-ba18-d73f42af5213"
   },
   "outputs": [
    {
     "data": {
      "text/plain": [
       "[<matplotlib.lines.Line2D at 0x7f2bcb4f15c0>]"
      ]
     },
     "execution_count": 8,
     "metadata": {
      "tags": []
     },
     "output_type": "execute_result"
    },
    {
     "data": {
      "image/png": "[encoded data removed]",
      "text/plain": [
       "<Figure size 1008x288 with 1 Axes>"
      ]
     },
     "metadata": {
      "needs_background": "light",
      "tags": []
     },
     "output_type": "display_data"
    }
   ],
   "source": [
    "\n",
    "plt.figure(figsize=(14, 4))\n",
    "plt.xticks(range(len(accuracies)))\n",
    "plt.xlabel('training epoch')\n",
    "plt.ylabel('train accuracy')\n",
    "plt.plot(accuracies, marker='o')"
   ]
  },
  {
   "cell_type": "code",
   "execution_count": 9,
   "metadata": {
    "colab": {
     "base_uri": "https://localhost:8080/",
     "height": 246
    },
    "colab_type": "code",
    "executionInfo": {
     "elapsed": 23556,
     "status": "ok",
     "timestamp": 1589534929533,
     "user": {
      "displayName": "양명철",
      "photoUrl": "",
      "userId": "13579778018026773217"
     },
     "user_tz": -540
    },
    "id": "lrUIbNRbMEXl",
    "outputId": "cc8431c3-b02c-4c16-f92a-24a4aa4f4c3b"
   },
   "outputs": [
    {
     "name": "stdout",
     "output_type": "stream",
     "text": [
      "Confusion matrix:\n",
      "[[792  15  57  17  20   9  10  16  42  22]\n",
      " [ 15 867   8  10   4   8   9   5  22  52]\n",
      " [ 53   4 702  43  57  67  38  23  10   3]\n",
      " [ 13   7  71 524  72 199  56  34  12  12]\n",
      " [ 12   2  68  41 760  43  16  49   7   2]\n",
      " [ 10   0  53 106  45 705  30  47   2   2]\n",
      " [  6   2  59  66  49  22 778  11   1   6]\n",
      " [ 12   2  46  39  48  85   3 761   0   4]\n",
      " [ 86  16  19  15  11  15   9  11 793  25]\n",
      " [ 44  69  12  15   5   9   9  29  24 784]]\n",
      "F1 score: 0.746600\n",
      "Accuracy score: 0.746600\n"
     ]
    }
   ],
   "source": [
    "# classes = ('plane', 'car',  'bird',  'cat',  'deer',\n",
    "#            'dog',   'frog', 'horse', 'ship', 'truck')\n",
    "\n",
    "def test_label_predictions(model, device, test_loader):\n",
    "    model.eval()\n",
    "    actuals = []\n",
    "    predictions = []\n",
    "    with torch.no_grad():\n",
    "        for data, target in test_loader:\n",
    "            data, target = data.to(device), target.to(device)\n",
    "            output = model(data)\n",
    "            prediction = output.argmax(dim=1, keepdim=True)\n",
    "            actuals.extend(target.view_as(prediction))\n",
    "            predictions.extend(prediction)\n",
    "    return [i.item() for i in actuals], [i.item() for i in predictions]\n",
    "\n",
    "actuals, predictions = test_label_predictions(model, device, test_loader)\n",
    "print('Confusion matrix:')\n",
    "print(confusion_matrix(actuals, predictions))\n",
    "print('F1 score: %f' % f1_score(actuals, predictions, average='micro'))\n",
    "print('Accuracy score: %f' % accuracy_score(actuals, predictions))"
   ]
  },
  {
   "cell_type": "code",
   "execution_count": 10,
   "metadata": {
    "colab": {
     "base_uri": "https://localhost:8080/",
     "height": 295
    },
    "colab_type": "code",
    "executionInfo": {
     "elapsed": 40801,
     "status": "ok",
     "timestamp": 1589534952686,
     "user": {
      "displayName": "양명철",
      "photoUrl": "",
      "userId": "13579778018026773217"
     },
     "user_tz": -540
    },
    "id": "U7S8VmhMMEa2",
    "outputId": "c6663005-c052-4341-a4ed-019d208c13ea"
   },
   "outputs": [
    {
     "data": {
      "image/png": "[encoded data removed]",
      "text/plain": [
       "<Figure size 432x288 with 1 Axes>"
      ]
     },
     "metadata": {
      "needs_background": "light",
      "tags": []
     },
     "output_type": "display_data"
    }
   ],
   "source": [
    "def test_class_probabilities(model, device, test_loader, which_class):\n",
    "    model.eval()\n",
    "    actuals = []\n",
    "    probabilities = []\n",
    "    with torch.no_grad():\n",
    "        for data, target in test_loader:\n",
    "            data, target = data.to(device), target.to(device)\n",
    "            output = model(data)\n",
    "            prediction = output.argmax(dim=1, keepdim=True)\n",
    "            actuals.extend(target.view_as(prediction) == which_class)\n",
    "            probabilities.extend(np.exp(output[:, which_class]))\n",
    "    return [i.item() for i in actuals], [i.item() for i in probabilities]\n",
    "\n",
    "which_class = 3\n",
    "actuals, class_probabilities = test_class_probabilities(model, device, test_loader, which_class)\n",
    "\n",
    "fpr, tpr, _ = roc_curve(actuals, class_probabilities)\n",
    "roc_auc = auc(fpr, tpr)\n",
    "plt.figure()\n",
    "lw = 2\n",
    "plt.plot(fpr, tpr, color='darkorange',\n",
    "         lw=lw, label='ROC curve (area = %0.2f)' % roc_auc)\n",
    "plt.plot([0, 1], [0, 1], color='navy', lw=lw, linestyle='--')\n",
    "plt.xlim([0.0, 1.0])\n",
    "plt.ylim([0.0, 1.05])\n",
    "plt.xlabel('False Positive Rate')\n",
    "plt.ylabel('True Positive Rate')\n",
    "plt.title('ROC for label=cat(%d) class' % which_class)\n",
    "plt.legend(loc=\"lower right\")\n",
    "plt.show()"
   ]
  },
  {
   "cell_type": "code",
   "execution_count": 11,
   "metadata": {
    "colab": {
     "base_uri": "https://localhost:8080/",
     "height": 281
    },
    "colab_type": "code",
    "executionInfo": {
     "elapsed": 39395,
     "status": "ok",
     "timestamp": 1589534952687,
     "user": {
      "displayName": "양명철",
      "photoUrl": "",
      "userId": "13579778018026773217"
     },
     "user_tz": -540
    },
    "id": "J4JCWRDdMEd3",
    "outputId": "6d2259d9-4fdf-4227-e5e6-68d7556c9901"
   },
   "outputs": [
    {
     "name": "stdout",
     "output_type": "stream",
     "text": [
      "Trainable parameters:\n",
      "conv1.weight \t 1728\n",
      "conv1.bias \t 64\n",
      "conv2.weight \t 73728\n",
      "conv2.bias \t 128\n",
      "conv3.weight \t 294912\n",
      "conv3.bias \t 256\n",
      "fc1.weight \t 131072\n",
      "fc1.bias \t 128\n",
      "fc2.weight \t 32768\n",
      "fc2.bias \t 256\n",
      "fc3.weight \t 2560\n",
      "fc3.bias \t 10\n",
      "\n",
      "Total \t\t 537610\n"
     ]
    }
   ],
   "source": [
    "total = 0\n",
    "print('Trainable parameters:')\n",
    "for name, param in model.named_parameters():\n",
    "    if param.requires_grad:\n",
    "        print(name, '\\t', param.numel())\n",
    "        total += param.numel()\n",
    "print()\n",
    "print('Total', '\\t\\t', total)"
   ]
  },
  {
   "cell_type": "code",
   "execution_count": 0,
   "metadata": {
    "colab": {},
    "colab_type": "code",
    "id": "mhwFfDTYMEg6"
   },
   "outputs": [],
   "source": []
  }
 ],
 "metadata": {
  "accelerator": "GPU",
  "colab": {
   "authorship_tag": "ABX9TyOyTSV8hV/cXdVKlM+/MgHV",
   "collapsed_sections": [],
   "name": "CIFAR_90%.ipynb",
   "provenance": []
  },
  "kernelspec": {
   "display_name": "Python 3",
   "language": "python",
   "name": "python3"
  },
  "language_info": {
   "codemirror_mode": {
    "name": "ipython",
    "version": 3
   },
   "file_extension": ".py",
   "mimetype": "text/x-python",
   "name": "python",
   "nbconvert_exporter": "python",
   "pygments_lexer": "ipython3",
   "version": "3.7.3"
  }
 },
 "nbformat": 4,
 "nbformat_minor": 1
}
