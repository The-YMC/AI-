{
 "cells": [
  {
   "cell_type": "code",
   "execution_count": 1,
   "metadata": {
    "colab": {
     "base_uri": "https://localhost:8080/",
     "height": 125
    },
    "colab_type": "code",
    "executionInfo": {
     "elapsed": 934,
     "status": "ok",
     "timestamp": 1589524289361,
     "user": {
      "displayName": "양명철",
      "photoUrl": "",
      "userId": "13579778018026773217"
     },
     "user_tz": -540
    },
    "id": "7Pff0pMkBgY-",
    "outputId": "c050597a-e6bf-4d66-a370-7f7977a7fd97"
   },
   "outputs": [
    {
     "name": "stdout",
     "output_type": "stream",
     "text": [
      "Net(\n",
      "  (conv1): Conv2d(1, 20, kernel_size=(5, 5), stride=(1, 1))\n",
      "  (conv2): Conv2d(20, 50, kernel_size=(5, 5), stride=(1, 1))\n",
      "  (fc1): Linear(in_features=800, out_features=500, bias=True)\n",
      "  (fc2): Linear(in_features=500, out_features=10, bias=True)\n",
      ")\n"
     ]
    }
   ],
   "source": [
    "import torch\n",
    "import torch.nn as nn\n",
    "import torch.nn.functional as F\n",
    "\n",
    "class Net(nn.Module):\n",
    "    def __init__(self):\n",
    "        super(Net, self).__init__()\n",
    "        self.conv1 = nn.Conv2d(1, 20, 5, 1)\n",
    "        self.conv2 = nn.Conv2d(20, 50, 5, 1)\n",
    "        self.fc1 = nn.Linear(4*4*50, 500)\n",
    "        self.fc2 = nn.Linear(500, 10)\n",
    "\n",
    "    def forward(self, x):\n",
    "        x = F.relu(self.conv1(x))\n",
    "        x = F.max_pool2d(x, 2, 2)\n",
    "        x = F.relu(self.conv2(x))\n",
    "        x = F.max_pool2d(x, 2, 2)\n",
    "        x = x.view(-1, 4*4*50)\n",
    "        x = F.relu(self.fc1(x))\n",
    "        x = self.fc2(x)\n",
    "        return F.log_softmax(x, dim=1)\n",
    "net = Net()\n",
    "print(net)"
   ]
  },
  {
   "cell_type": "code",
   "execution_count": 0,
   "metadata": {
    "colab": {},
    "colab_type": "code",
    "id": "HsJCyS1kBkMg"
   },
   "outputs": [],
   "source": [
    "train_batch_size=64\n",
    "test_batch_size=1000\n",
    "epochs =30\n",
    "lr=0.01\n",
    "momentum = 0.5\n",
    "no_cuda = False\n",
    "seed = 1\n",
    "log_interval = 1000\n",
    "save_model = True"
   ]
  },
  {
   "cell_type": "code",
   "execution_count": 0,
   "metadata": {
    "colab": {},
    "colab_type": "code",
    "id": "qr1kTMhFEz5C"
   },
   "outputs": [],
   "source": []
  },
  {
   "cell_type": "code",
   "execution_count": 0,
   "metadata": {
    "colab": {},
    "colab_type": "code",
    "id": "RV2sVqOCBl9c"
   },
   "outputs": [],
   "source": [
    "from torchvision import datasets, transforms\n",
    "use_cuda = False#not no_cuda and torch.cuda.is_available()\n",
    "torch.manual_seed(seed)\n",
    "\n",
    "device = torch.device(\"cuda\" if use_cuda else \"cpu\")\n",
    "\n",
    "kwargs = {'num_workers': 1, 'pin_memory': True} if use_cuda else {}\n",
    "train_loader = torch.utils.data.DataLoader(datasets.MNIST('data', train=True, download=True,\n",
    "                    transform=transforms.Compose([transforms.ToTensor(),\n",
    "                                                  transforms.Normalize((0.1307,), (0.3081,))])),\n",
    "                    batch_size=train_batch_size, shuffle=True, **kwargs)\n",
    "\n",
    "test_loader = torch.utils.data.DataLoader(datasets.MNIST('data', train=False, transform=transforms.Compose([\n",
    "                       transforms.ToTensor(),transforms.Normalize((0.1307,), (0.3081,))])),\n",
    "\n",
    "batch_size=test_batch_size, shuffle=True, **kwargs)\n",
    "\n"
   ]
  },
  {
   "cell_type": "code",
   "execution_count": 4,
   "metadata": {
    "colab": {
     "base_uri": "https://localhost:8080/",
     "height": 34
    },
    "colab_type": "code",
    "executionInfo": {
     "elapsed": 1082,
     "status": "ok",
     "timestamp": 1589524289618,
     "user": {
      "displayName": "양명철",
      "photoUrl": "",
      "userId": "13579778018026773217"
     },
     "user_tz": -540
    },
    "id": "GtDRQWX1Bp7a",
    "outputId": "6270381a-360e-448f-d7fb-0e5c42530a74"
   },
   "outputs": [
    {
     "data": {
      "text/latex": [
       "$$w:= w - \\eta \\sum_{i=1}^{n}\\delta Q_{i}(w)/n$$"
      ],
      "text/plain": [
       "<IPython.core.display.Math object>"
      ]
     },
     "metadata": {
      "tags": []
     },
     "output_type": "display_data"
    }
   ],
   "source": [
    "from IPython.display import display, Math, Latex\n",
    "display(Math(r'w:= w - \\eta \\sum_{i=1}^{n}\\delta Q_{i}(w)/n'))"
   ]
  },
  {
   "cell_type": "code",
   "execution_count": 0,
   "metadata": {
    "colab": {},
    "colab_type": "code",
    "id": "4Fa9A_HoBszd"
   },
   "outputs": [],
   "source": [
    "import torch.optim as optim\n",
    "model = Net().to(device)\n",
    "optimizer = optim.SGD(model.parameters(), lr=lr, momentum=momentum)"
   ]
  },
  {
   "cell_type": "code",
   "execution_count": 0,
   "metadata": {
    "colab": {},
    "colab_type": "code",
    "id": "gs2Czw-JBugp"
   },
   "outputs": [],
   "source": [
    "def train(model, device, train_loader, optimizer, epoch,log_interval):\n",
    "    model.train()\n",
    "    avg_loss = 0\n",
    "    # in training loop:\n",
    "    for batch_idx, (data, target) in enumerate(train_loader):\n",
    "        data, target = data.to(device), target.to(device)\n",
    "        optimizer.zero_grad() # zero the gradient buffers\n",
    "        output = model(data)\n",
    "        loss = F.nll_loss(output, target)\n",
    "        loss.backward()\n",
    "        optimizer.step() # Does the update\n",
    "        avg_loss+=F.nll_loss(output, target, reduction='sum').item()\n",
    "        \n",
    "        if batch_idx % log_interval == 0:\n",
    "            print('Train Epoch: {} [{}/{} ({:.0f}%)]\\tLoss: {:.6f}'.format(\n",
    "                epoch, batch_idx * len(data), len(train_loader.dataset),\n",
    "                100. * batch_idx / len(train_loader), loss.item()))\n",
    "    avg_loss/=len(train_loader.dataset)\n",
    "    return avg_loss\n",
    "\n",
    "def test(model, device, test_loader):\n",
    "    model.eval()\n",
    "    test_loss = 0\n",
    "    correct = 0\n",
    "    with torch.no_grad():\n",
    "        for data, target in test_loader:\n",
    "            data, target = data.to(device), target.to(device)\n",
    "            output = model(data)\n",
    "            test_loss += F.nll_loss(output, target, reduction='sum').item() # sum up batch loss\n",
    "            pred = output.argmax(dim=1, keepdim=True) # get the index of the max log-probability\n",
    "            correct += pred.eq(target.view_as(pred)).sum().item()\n",
    "\n",
    "    test_loss /= len(test_loader.dataset)\n",
    "\n",
    "    print('\\nTest set: Average loss: {:.4f}, Accuracy: {}/{} ({:.0f}%)\\n'.format(\n",
    "        test_loss, correct, len(test_loader.dataset),\n",
    "        100. * correct / len(test_loader.dataset)))\n",
    "    accuracy = 100. * correct / len(test_loader.dataset)\n",
    "    return test_loss,accuracy"
   ]
  },
  {
   "cell_type": "code",
   "execution_count": 7,
   "metadata": {
    "colab": {
     "base_uri": "https://localhost:8080/",
     "height": 1000
    },
    "colab_type": "code",
    "executionInfo": {
     "elapsed": 1721410,
     "status": "ok",
     "timestamp": 1589526010043,
     "user": {
      "displayName": "양명철",
      "photoUrl": "",
      "userId": "13579778018026773217"
     },
     "user_tz": -540
    },
    "id": "ULvl0ZHLBwED",
    "outputId": "d16717a7-9c0b-4d5c-8c3b-eb79fbdb29e3"
   },
   "outputs": [
    {
     "name": "stdout",
     "output_type": "stream",
     "text": [
      "Train Epoch: 1 [0/60000 (0%)]\tLoss: 2.300039\n",
      "\n",
      "Test set: Average loss: 0.1019, Accuracy: 9661/10000 (97%)\n",
      "\n",
      "Train Epoch: 2 [0/60000 (0%)]\tLoss: 0.145572\n",
      "\n",
      "Test set: Average loss: 0.0607, Accuracy: 9830/10000 (98%)\n",
      "\n",
      "Train Epoch: 3 [0/60000 (0%)]\tLoss: 0.053415\n",
      "\n",
      "Test set: Average loss: 0.0560, Accuracy: 9809/10000 (98%)\n",
      "\n",
      "Train Epoch: 4 [0/60000 (0%)]\tLoss: 0.018873\n",
      "\n",
      "Test set: Average loss: 0.0411, Accuracy: 9864/10000 (99%)\n",
      "\n",
      "Train Epoch: 5 [0/60000 (0%)]\tLoss: 0.011065\n",
      "\n",
      "Test set: Average loss: 0.0381, Accuracy: 9876/10000 (99%)\n",
      "\n",
      "Train Epoch: 6 [0/60000 (0%)]\tLoss: 0.134288\n",
      "\n",
      "Test set: Average loss: 0.0337, Accuracy: 9892/10000 (99%)\n",
      "\n",
      "Train Epoch: 7 [0/60000 (0%)]\tLoss: 0.033026\n",
      "\n",
      "Test set: Average loss: 0.0345, Accuracy: 9877/10000 (99%)\n",
      "\n",
      "Train Epoch: 8 [0/60000 (0%)]\tLoss: 0.005081\n",
      "\n",
      "Test set: Average loss: 0.0394, Accuracy: 9874/10000 (99%)\n",
      "\n",
      "Train Epoch: 9 [0/60000 (0%)]\tLoss: 0.086736\n",
      "\n",
      "Test set: Average loss: 0.0294, Accuracy: 9911/10000 (99%)\n",
      "\n",
      "Train Epoch: 10 [0/60000 (0%)]\tLoss: 0.124863\n",
      "\n",
      "Test set: Average loss: 0.0321, Accuracy: 9890/10000 (99%)\n",
      "\n",
      "Train Epoch: 11 [0/60000 (0%)]\tLoss: 0.010122\n",
      "\n",
      "Test set: Average loss: 0.0302, Accuracy: 9899/10000 (99%)\n",
      "\n",
      "Train Epoch: 12 [0/60000 (0%)]\tLoss: 0.036428\n",
      "\n",
      "Test set: Average loss: 0.0269, Accuracy: 9914/10000 (99%)\n",
      "\n",
      "Train Epoch: 13 [0/60000 (0%)]\tLoss: 0.023724\n",
      "\n",
      "Test set: Average loss: 0.0283, Accuracy: 9915/10000 (99%)\n",
      "\n",
      "Train Epoch: 14 [0/60000 (0%)]\tLoss: 0.009757\n",
      "\n",
      "Test set: Average loss: 0.0280, Accuracy: 9914/10000 (99%)\n",
      "\n",
      "Train Epoch: 15 [0/60000 (0%)]\tLoss: 0.008308\n",
      "\n",
      "Test set: Average loss: 0.0261, Accuracy: 9918/10000 (99%)\n",
      "\n",
      "Train Epoch: 16 [0/60000 (0%)]\tLoss: 0.001404\n",
      "\n",
      "Test set: Average loss: 0.0267, Accuracy: 9912/10000 (99%)\n",
      "\n",
      "Train Epoch: 17 [0/60000 (0%)]\tLoss: 0.001520\n",
      "\n",
      "Test set: Average loss: 0.0248, Accuracy: 9928/10000 (99%)\n",
      "\n",
      "Train Epoch: 18 [0/60000 (0%)]\tLoss: 0.012770\n",
      "\n",
      "Test set: Average loss: 0.0278, Accuracy: 9916/10000 (99%)\n",
      "\n",
      "Train Epoch: 19 [0/60000 (0%)]\tLoss: 0.022527\n",
      "\n",
      "Test set: Average loss: 0.0282, Accuracy: 9910/10000 (99%)\n",
      "\n",
      "Train Epoch: 20 [0/60000 (0%)]\tLoss: 0.001084\n",
      "\n",
      "Test set: Average loss: 0.0283, Accuracy: 9906/10000 (99%)\n",
      "\n",
      "Train Epoch: 21 [0/60000 (0%)]\tLoss: 0.002585\n",
      "\n",
      "Test set: Average loss: 0.0247, Accuracy: 9921/10000 (99%)\n",
      "\n",
      "Train Epoch: 22 [0/60000 (0%)]\tLoss: 0.000404\n",
      "\n",
      "Test set: Average loss: 0.0323, Accuracy: 9904/10000 (99%)\n",
      "\n",
      "Train Epoch: 23 [0/60000 (0%)]\tLoss: 0.001166\n",
      "\n",
      "Test set: Average loss: 0.0268, Accuracy: 9910/10000 (99%)\n",
      "\n",
      "Train Epoch: 24 [0/60000 (0%)]\tLoss: 0.001060\n",
      "\n",
      "Test set: Average loss: 0.0251, Accuracy: 9927/10000 (99%)\n",
      "\n",
      "Train Epoch: 25 [0/60000 (0%)]\tLoss: 0.001571\n",
      "\n",
      "Test set: Average loss: 0.0282, Accuracy: 9917/10000 (99%)\n",
      "\n",
      "Train Epoch: 26 [0/60000 (0%)]\tLoss: 0.000442\n",
      "\n",
      "Test set: Average loss: 0.0302, Accuracy: 9910/10000 (99%)\n",
      "\n",
      "Train Epoch: 27 [0/60000 (0%)]\tLoss: 0.011496\n",
      "\n",
      "Test set: Average loss: 0.0285, Accuracy: 9915/10000 (99%)\n",
      "\n",
      "Train Epoch: 28 [0/60000 (0%)]\tLoss: 0.002940\n",
      "\n",
      "Test set: Average loss: 0.0283, Accuracy: 9920/10000 (99%)\n",
      "\n",
      "Train Epoch: 29 [0/60000 (0%)]\tLoss: 0.000696\n",
      "\n",
      "Test set: Average loss: 0.0294, Accuracy: 9925/10000 (99%)\n",
      "\n",
      "Train Epoch: 30 [0/60000 (0%)]\tLoss: 0.000228\n",
      "\n",
      "Test set: Average loss: 0.0292, Accuracy: 9920/10000 (99%)\n",
      "\n"
     ]
    }
   ],
   "source": [
    "train_losses = []\n",
    "test_losses = []\n",
    "accuracy_list = []\n",
    "for epoch in range(1, epochs + 1):\n",
    "    trn_loss = train(model, device, train_loader, optimizer, epoch,log_interval)\n",
    "    test_loss,accuracy = test(model, device, test_loader)\n",
    "    train_losses.append(trn_loss)\n",
    "    test_losses.append(test_loss)\n",
    "    accuracy_list.append(accuracy)\n",
    "\n",
    "if (save_model):\n",
    "    torch.save(model.state_dict(),\"mnist_cnn.pt\")"
   ]
  },
  {
   "cell_type": "code",
   "execution_count": 8,
   "metadata": {
    "colab": {
     "base_uri": "https://localhost:8080/",
     "height": 513
    },
    "colab_type": "code",
    "executionInfo": {
     "elapsed": 928,
     "status": "ok",
     "timestamp": 1589526168823,
     "user": {
      "displayName": "양명철",
      "photoUrl": "",
      "userId": "13579778018026773217"
     },
     "user_tz": -540
    },
    "id": "pvcmmCR7Bxz7",
    "outputId": "0b94a32d-af8f-4cbb-fd7e-30487cadd0c4"
   },
   "outputs": [
    {
     "data": {
      "image/png": "[encoded data removed]",
      "text/plain": [
       "<Figure size 432x288 with 1 Axes>"
      ]
     },
     "metadata": {
      "needs_background": "light",
      "tags": []
     },
     "output_type": "display_data"
    },
    {
     "data": {
      "image/png": "[encoded data removed]",
      "text/plain": [
       "<Figure size 432x288 with 1 Axes>"
      ]
     },
     "metadata": {
      "needs_background": "light",
      "tags": []
     },
     "output_type": "display_data"
    }
   ],
   "source": [
    "import matplotlib.pyplot as plt\n",
    "%matplotlib inline\n",
    "plt.plot(train_losses,'b')\n",
    "plt.plot(test_losses,'r')\n",
    "plt.ylabel('Loss')\n",
    "plt.show()\n",
    "plt.plot(accuracy_list,'g')\n",
    "plt.ylabel('accuracy')\n",
    "plt.show()"
   ]
  }
 ],
 "metadata": {
  "accelerator": "GPU",
  "colab": {
   "authorship_tag": "ABX9TyNmlu8wRUa6nR7wDNP9O3v6",
   "collapsed_sections": [],
   "name": "Mnist_99%.ipynb",
   "provenance": []
  },
  "kernelspec": {
   "display_name": "Python 3",
   "language": "python",
   "name": "python3"
  },
  "language_info": {
   "codemirror_mode": {
    "name": "ipython",
    "version": 3
   },
   "file_extension": ".py",
   "mimetype": "text/x-python",
   "name": "python",
   "nbconvert_exporter": "python",
   "pygments_lexer": "ipython3",
   "version": "3.7.3"
  }
 },
 "nbformat": 4,
 "nbformat_minor": 1
}
